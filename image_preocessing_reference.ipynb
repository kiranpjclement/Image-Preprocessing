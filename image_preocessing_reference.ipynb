{
 "cells": [
  {
   "cell_type": "raw",
   "id": "8cb77138",
   "metadata": {},
   "source": [
    "greyscale image\n",
    "It has intensity of black and white with pixels 0 to 255\n",
    "Binay image /black& white /monochrome\n",
    "it has either pure black or pure white 0 or 255\n",
    "np.set_printoptions(threshold=np.nan)\n",
    "np.set_printoptions(threshold=np.inf) #to get full array set threshold as np.nan or np.inf"
   ]
  },
  {
   "cell_type": "code",
   "execution_count": 1,
   "id": "5f7308b9",
   "metadata": {},
   "outputs": [],
   "source": [
    "import cv2 as cv\n",
    "import numpy as np\n",
    "import seaborn as sns\n",
    "import matplotlib.pyplot as plt\n",
    "import pandas as pd"
   ]
  },
  {
   "cell_type": "code",
   "execution_count": 2,
   "id": "822f9721",
   "metadata": {},
   "outputs": [],
   "source": [
    "import cv2\n",
    "import random"
   ]
  },
  {
   "cell_type": "markdown",
   "id": "a800842f",
   "metadata": {},
   "source": [
    "### Read Image"
   ]
  },
  {
   "cell_type": "code",
   "execution_count": 3,
   "id": "f28cb9d0",
   "metadata": {},
   "outputs": [],
   "source": [
    "img=cv2.imread('rainbow.jpg',-1 )# color image\n",
    "img_gray=cv2.imread('rainbow.jpg',0 ) #grayscale\n",
    "img=cv2.imread('rainbow.jpg',1 ) #original unchanged with alpha/additional channels"
   ]
  },
  {
   "cell_type": "markdown",
   "id": "99289c35",
   "metadata": {},
   "source": [
    "Always check the extension , rainbow.png, will not load if the original image is rainbow.jpg"
   ]
  },
  {
   "cell_type": "markdown",
   "id": "a3c936e0",
   "metadata": {},
   "source": [
    "#### Function to add Noise on image"
   ]
  },
  {
   "cell_type": "code",
   "execution_count": 9,
   "id": "145663ec",
   "metadata": {},
   "outputs": [],
   "source": [
    "def add_noise(img):\n",
    "  \n",
    "    # Getting the dimensions of the image\n",
    "    row , col = img.shape\n",
    "      \n",
    "    # Randomly pick some pixels in the\n",
    "    # image for coloring them white\n",
    "    # Pick a random number between 300 and 10000\n",
    "    number_of_pixels = random.randint(300, 10000)\n",
    "    for i in range(number_of_pixels):\n",
    "        \n",
    "        # Pick a random y coordinate\n",
    "        y_coord=random.randint(0, row - 1)\n",
    "          \n",
    "        # Pick a random x coordinate\n",
    "        x_coord=random.randint(0, col - 1)\n",
    "          \n",
    "        # Color that pixel to white\n",
    "        img[y_coord][x_coord] = 255\n",
    "          \n",
    "    # Randomly pick some pixels in\n",
    "    # the image for coloring them black\n",
    "    # Pick a random number between 300 and 10000\n",
    "    number_of_pixels = random.randint(300 , 10000)\n",
    "    for i in range(number_of_pixels):\n",
    "        \n",
    "        # Pick a random y coordinate\n",
    "        y_coord=random.randint(0, row - 1)\n",
    "          \n",
    "        # Pick a random x coordinate\n",
    "        x_coord=random.randint(0, col - 1)\n",
    "          \n",
    "        # Color that pixel to black\n",
    "        img[y_coord][x_coord] = 0\n",
    "          \n",
    "    return img"
   ]
  },
  {
   "cell_type": "code",
   "execution_count": 35,
   "id": "206b3397",
   "metadata": {},
   "outputs": [],
   "source": [
    "#adding noise to grayscale image or binary\n",
    "img_gray_noise=add_noise(img_gray)\n",
    "#Adding Noise to color image\n",
    "img_noise=add_noise(img[:,:,0])  #added noise to one channel\n",
    "img_noise=cv2.merge((img_noise,img[:,:,1],img[:,:,2])) #merge the noised channel with other two channels"
   ]
  },
  {
   "cell_type": "markdown",
   "id": "e98a66bf",
   "metadata": {},
   "source": [
    "### Resizing the image"
   ]
  },
  {
   "cell_type": "code",
   "execution_count": 6,
   "id": "a5053799",
   "metadata": {},
   "outputs": [],
   "source": [
    "img2=cv2.resize(img,(100,100))  #resize the image to different pixel value ,, here change to 100X 100 pixel"
   ]
  },
  {
   "cell_type": "code",
   "execution_count": null,
   "id": "b9c1e429",
   "metadata": {},
   "outputs": [],
   "source": [
    "img2=cv2.resize(img,(0,0),fx=2,fy=1.5)  #resize wrt the ratio, here double x and 1.5 times y increased, but make pixel (0,0)"
   ]
  },
  {
   "cell_type": "markdown",
   "id": "f8607de8",
   "metadata": {},
   "source": [
    "### Write an Image"
   ]
  },
  {
   "cell_type": "code",
   "execution_count": null,
   "id": "49a23a1c",
   "metadata": {},
   "outputs": [],
   "source": [
    "cv2.imwrite('LenaGray_DSA19SEP2020.png',img_gray)"
   ]
  },
  {
   "cell_type": "markdown",
   "id": "89ba4d1c",
   "metadata": {},
   "source": [
    "#### Copy a part of image and paste it to another"
   ]
  },
  {
   "cell_type": "code",
   "execution_count": 33,
   "id": "4f6d8611",
   "metadata": {
    "scrolled": true
   },
   "outputs": [],
   "source": [
    "part =img[100:200,100:200,:]"
   ]
  },
  {
   "cell_type": "code",
   "execution_count": 34,
   "id": "c88a5419",
   "metadata": {},
   "outputs": [],
   "source": [
    "img[300:400,300:400,:]=part"
   ]
  },
  {
   "cell_type": "markdown",
   "id": "4cb011f0",
   "metadata": {},
   "source": [
    "### Image Show"
   ]
  },
  {
   "cell_type": "code",
   "execution_count": 36,
   "id": "949cfd11",
   "metadata": {},
   "outputs": [],
   "source": [
    "cv2.imshow('First image',img_noise)\n",
    "cv2.waitKey()\n",
    "cv2.destroyAllWindows()"
   ]
  },
  {
   "cell_type": "code",
   "execution_count": 8,
   "id": "5966e098",
   "metadata": {},
   "outputs": [],
   "source": [
    "#multiple images at a time\n",
    "cv2.imshow('imageColor',img)\n",
    "cv2.imshow('imageGray',gray)\n",
    "cv2.imshow('image',img_gray)\n",
    "cv2.waitKey()\n",
    "cv2.destroyAllWindows()"
   ]
  },
  {
   "cell_type": "markdown",
   "id": "905228be",
   "metadata": {},
   "source": [
    "### Split and Merge Channels"
   ]
  },
  {
   "cell_type": "code",
   "execution_count": null,
   "id": "2b843453",
   "metadata": {},
   "outputs": [],
   "source": [
    "b,g,r=cv2.split(img)  #split each channel\n",
    "imgjoin=cv2.merge((b,g,r)) #merge each channel to original picture"
   ]
  },
  {
   "cell_type": "markdown",
   "id": "b2b8dfc8",
   "metadata": {},
   "source": [
    "###### Changing Color Space"
   ]
  },
  {
   "cell_type": "code",
   "execution_count": 9,
   "id": "7a5b70e5",
   "metadata": {},
   "outputs": [],
   "source": [
    "flags = [i for i in dir(cv2) if i.startswith('COLOR_')]"
   ]
  },
  {
   "cell_type": "code",
   "execution_count": 10,
   "id": "00c8a728",
   "metadata": {
    "collapsed": true
   },
   "outputs": [
    {
     "data": {
      "text/plain": [
       "['COLOR_BAYER_BG2BGR',\n",
       " 'COLOR_BAYER_BG2BGRA',\n",
       " 'COLOR_BAYER_BG2BGR_EA',\n",
       " 'COLOR_BAYER_BG2BGR_VNG',\n",
       " 'COLOR_BAYER_BG2GRAY',\n",
       " 'COLOR_BAYER_BG2RGB',\n",
       " 'COLOR_BAYER_BG2RGBA',\n",
       " 'COLOR_BAYER_BG2RGB_EA',\n",
       " 'COLOR_BAYER_BG2RGB_VNG',\n",
       " 'COLOR_BAYER_GB2BGR',\n",
       " 'COLOR_BAYER_GB2BGRA',\n",
       " 'COLOR_BAYER_GB2BGR_EA',\n",
       " 'COLOR_BAYER_GB2BGR_VNG',\n",
       " 'COLOR_BAYER_GB2GRAY',\n",
       " 'COLOR_BAYER_GB2RGB',\n",
       " 'COLOR_BAYER_GB2RGBA',\n",
       " 'COLOR_BAYER_GB2RGB_EA',\n",
       " 'COLOR_BAYER_GB2RGB_VNG',\n",
       " 'COLOR_BAYER_GR2BGR',\n",
       " 'COLOR_BAYER_GR2BGRA',\n",
       " 'COLOR_BAYER_GR2BGR_EA',\n",
       " 'COLOR_BAYER_GR2BGR_VNG',\n",
       " 'COLOR_BAYER_GR2GRAY',\n",
       " 'COLOR_BAYER_GR2RGB',\n",
       " 'COLOR_BAYER_GR2RGBA',\n",
       " 'COLOR_BAYER_GR2RGB_EA',\n",
       " 'COLOR_BAYER_GR2RGB_VNG',\n",
       " 'COLOR_BAYER_RG2BGR',\n",
       " 'COLOR_BAYER_RG2BGRA',\n",
       " 'COLOR_BAYER_RG2BGR_EA',\n",
       " 'COLOR_BAYER_RG2BGR_VNG',\n",
       " 'COLOR_BAYER_RG2GRAY',\n",
       " 'COLOR_BAYER_RG2RGB',\n",
       " 'COLOR_BAYER_RG2RGBA',\n",
       " 'COLOR_BAYER_RG2RGB_EA',\n",
       " 'COLOR_BAYER_RG2RGB_VNG',\n",
       " 'COLOR_BGR2BGR555',\n",
       " 'COLOR_BGR2BGR565',\n",
       " 'COLOR_BGR2BGRA',\n",
       " 'COLOR_BGR2GRAY',\n",
       " 'COLOR_BGR2HLS',\n",
       " 'COLOR_BGR2HLS_FULL',\n",
       " 'COLOR_BGR2HSV',\n",
       " 'COLOR_BGR2HSV_FULL',\n",
       " 'COLOR_BGR2LAB',\n",
       " 'COLOR_BGR2LUV',\n",
       " 'COLOR_BGR2Lab',\n",
       " 'COLOR_BGR2Luv',\n",
       " 'COLOR_BGR2RGB',\n",
       " 'COLOR_BGR2RGBA',\n",
       " 'COLOR_BGR2XYZ',\n",
       " 'COLOR_BGR2YCR_CB',\n",
       " 'COLOR_BGR2YCrCb',\n",
       " 'COLOR_BGR2YUV',\n",
       " 'COLOR_BGR2YUV_I420',\n",
       " 'COLOR_BGR2YUV_IYUV',\n",
       " 'COLOR_BGR2YUV_YV12',\n",
       " 'COLOR_BGR5552BGR',\n",
       " 'COLOR_BGR5552BGRA',\n",
       " 'COLOR_BGR5552GRAY',\n",
       " 'COLOR_BGR5552RGB',\n",
       " 'COLOR_BGR5552RGBA',\n",
       " 'COLOR_BGR5652BGR',\n",
       " 'COLOR_BGR5652BGRA',\n",
       " 'COLOR_BGR5652GRAY',\n",
       " 'COLOR_BGR5652RGB',\n",
       " 'COLOR_BGR5652RGBA',\n",
       " 'COLOR_BGRA2BGR',\n",
       " 'COLOR_BGRA2BGR555',\n",
       " 'COLOR_BGRA2BGR565',\n",
       " 'COLOR_BGRA2GRAY',\n",
       " 'COLOR_BGRA2RGB',\n",
       " 'COLOR_BGRA2RGBA',\n",
       " 'COLOR_BGRA2YUV_I420',\n",
       " 'COLOR_BGRA2YUV_IYUV',\n",
       " 'COLOR_BGRA2YUV_YV12',\n",
       " 'COLOR_BayerBG2BGR',\n",
       " 'COLOR_BayerBG2BGRA',\n",
       " 'COLOR_BayerBG2BGR_EA',\n",
       " 'COLOR_BayerBG2BGR_VNG',\n",
       " 'COLOR_BayerBG2GRAY',\n",
       " 'COLOR_BayerBG2RGB',\n",
       " 'COLOR_BayerBG2RGBA',\n",
       " 'COLOR_BayerBG2RGB_EA',\n",
       " 'COLOR_BayerBG2RGB_VNG',\n",
       " 'COLOR_BayerGB2BGR',\n",
       " 'COLOR_BayerGB2BGRA',\n",
       " 'COLOR_BayerGB2BGR_EA',\n",
       " 'COLOR_BayerGB2BGR_VNG',\n",
       " 'COLOR_BayerGB2GRAY',\n",
       " 'COLOR_BayerGB2RGB',\n",
       " 'COLOR_BayerGB2RGBA',\n",
       " 'COLOR_BayerGB2RGB_EA',\n",
       " 'COLOR_BayerGB2RGB_VNG',\n",
       " 'COLOR_BayerGR2BGR',\n",
       " 'COLOR_BayerGR2BGRA',\n",
       " 'COLOR_BayerGR2BGR_EA',\n",
       " 'COLOR_BayerGR2BGR_VNG',\n",
       " 'COLOR_BayerGR2GRAY',\n",
       " 'COLOR_BayerGR2RGB',\n",
       " 'COLOR_BayerGR2RGBA',\n",
       " 'COLOR_BayerGR2RGB_EA',\n",
       " 'COLOR_BayerGR2RGB_VNG',\n",
       " 'COLOR_BayerRG2BGR',\n",
       " 'COLOR_BayerRG2BGRA',\n",
       " 'COLOR_BayerRG2BGR_EA',\n",
       " 'COLOR_BayerRG2BGR_VNG',\n",
       " 'COLOR_BayerRG2GRAY',\n",
       " 'COLOR_BayerRG2RGB',\n",
       " 'COLOR_BayerRG2RGBA',\n",
       " 'COLOR_BayerRG2RGB_EA',\n",
       " 'COLOR_BayerRG2RGB_VNG',\n",
       " 'COLOR_COLORCVT_MAX',\n",
       " 'COLOR_GRAY2BGR',\n",
       " 'COLOR_GRAY2BGR555',\n",
       " 'COLOR_GRAY2BGR565',\n",
       " 'COLOR_GRAY2BGRA',\n",
       " 'COLOR_GRAY2RGB',\n",
       " 'COLOR_GRAY2RGBA',\n",
       " 'COLOR_HLS2BGR',\n",
       " 'COLOR_HLS2BGR_FULL',\n",
       " 'COLOR_HLS2RGB',\n",
       " 'COLOR_HLS2RGB_FULL',\n",
       " 'COLOR_HSV2BGR',\n",
       " 'COLOR_HSV2BGR_FULL',\n",
       " 'COLOR_HSV2RGB',\n",
       " 'COLOR_HSV2RGB_FULL',\n",
       " 'COLOR_LAB2BGR',\n",
       " 'COLOR_LAB2LBGR',\n",
       " 'COLOR_LAB2LRGB',\n",
       " 'COLOR_LAB2RGB',\n",
       " 'COLOR_LBGR2LAB',\n",
       " 'COLOR_LBGR2LUV',\n",
       " 'COLOR_LBGR2Lab',\n",
       " 'COLOR_LBGR2Luv',\n",
       " 'COLOR_LRGB2LAB',\n",
       " 'COLOR_LRGB2LUV',\n",
       " 'COLOR_LRGB2Lab',\n",
       " 'COLOR_LRGB2Luv',\n",
       " 'COLOR_LUV2BGR',\n",
       " 'COLOR_LUV2LBGR',\n",
       " 'COLOR_LUV2LRGB',\n",
       " 'COLOR_LUV2RGB',\n",
       " 'COLOR_Lab2BGR',\n",
       " 'COLOR_Lab2LBGR',\n",
       " 'COLOR_Lab2LRGB',\n",
       " 'COLOR_Lab2RGB',\n",
       " 'COLOR_Luv2BGR',\n",
       " 'COLOR_Luv2LBGR',\n",
       " 'COLOR_Luv2LRGB',\n",
       " 'COLOR_Luv2RGB',\n",
       " 'COLOR_M_RGBA2RGBA',\n",
       " 'COLOR_RGB2BGR',\n",
       " 'COLOR_RGB2BGR555',\n",
       " 'COLOR_RGB2BGR565',\n",
       " 'COLOR_RGB2BGRA',\n",
       " 'COLOR_RGB2GRAY',\n",
       " 'COLOR_RGB2HLS',\n",
       " 'COLOR_RGB2HLS_FULL',\n",
       " 'COLOR_RGB2HSV',\n",
       " 'COLOR_RGB2HSV_FULL',\n",
       " 'COLOR_RGB2LAB',\n",
       " 'COLOR_RGB2LUV',\n",
       " 'COLOR_RGB2Lab',\n",
       " 'COLOR_RGB2Luv',\n",
       " 'COLOR_RGB2RGBA',\n",
       " 'COLOR_RGB2XYZ',\n",
       " 'COLOR_RGB2YCR_CB',\n",
       " 'COLOR_RGB2YCrCb',\n",
       " 'COLOR_RGB2YUV',\n",
       " 'COLOR_RGB2YUV_I420',\n",
       " 'COLOR_RGB2YUV_IYUV',\n",
       " 'COLOR_RGB2YUV_YV12',\n",
       " 'COLOR_RGBA2BGR',\n",
       " 'COLOR_RGBA2BGR555',\n",
       " 'COLOR_RGBA2BGR565',\n",
       " 'COLOR_RGBA2BGRA',\n",
       " 'COLOR_RGBA2GRAY',\n",
       " 'COLOR_RGBA2M_RGBA',\n",
       " 'COLOR_RGBA2RGB',\n",
       " 'COLOR_RGBA2YUV_I420',\n",
       " 'COLOR_RGBA2YUV_IYUV',\n",
       " 'COLOR_RGBA2YUV_YV12',\n",
       " 'COLOR_RGBA2mRGBA',\n",
       " 'COLOR_XYZ2BGR',\n",
       " 'COLOR_XYZ2RGB',\n",
       " 'COLOR_YCR_CB2BGR',\n",
       " 'COLOR_YCR_CB2RGB',\n",
       " 'COLOR_YCrCb2BGR',\n",
       " 'COLOR_YCrCb2RGB',\n",
       " 'COLOR_YUV2BGR',\n",
       " 'COLOR_YUV2BGRA_I420',\n",
       " 'COLOR_YUV2BGRA_IYUV',\n",
       " 'COLOR_YUV2BGRA_NV12',\n",
       " 'COLOR_YUV2BGRA_NV21',\n",
       " 'COLOR_YUV2BGRA_UYNV',\n",
       " 'COLOR_YUV2BGRA_UYVY',\n",
       " 'COLOR_YUV2BGRA_Y422',\n",
       " 'COLOR_YUV2BGRA_YUNV',\n",
       " 'COLOR_YUV2BGRA_YUY2',\n",
       " 'COLOR_YUV2BGRA_YUYV',\n",
       " 'COLOR_YUV2BGRA_YV12',\n",
       " 'COLOR_YUV2BGRA_YVYU',\n",
       " 'COLOR_YUV2BGR_I420',\n",
       " 'COLOR_YUV2BGR_IYUV',\n",
       " 'COLOR_YUV2BGR_NV12',\n",
       " 'COLOR_YUV2BGR_NV21',\n",
       " 'COLOR_YUV2BGR_UYNV',\n",
       " 'COLOR_YUV2BGR_UYVY',\n",
       " 'COLOR_YUV2BGR_Y422',\n",
       " 'COLOR_YUV2BGR_YUNV',\n",
       " 'COLOR_YUV2BGR_YUY2',\n",
       " 'COLOR_YUV2BGR_YUYV',\n",
       " 'COLOR_YUV2BGR_YV12',\n",
       " 'COLOR_YUV2BGR_YVYU',\n",
       " 'COLOR_YUV2GRAY_420',\n",
       " 'COLOR_YUV2GRAY_I420',\n",
       " 'COLOR_YUV2GRAY_IYUV',\n",
       " 'COLOR_YUV2GRAY_NV12',\n",
       " 'COLOR_YUV2GRAY_NV21',\n",
       " 'COLOR_YUV2GRAY_UYNV',\n",
       " 'COLOR_YUV2GRAY_UYVY',\n",
       " 'COLOR_YUV2GRAY_Y422',\n",
       " 'COLOR_YUV2GRAY_YUNV',\n",
       " 'COLOR_YUV2GRAY_YUY2',\n",
       " 'COLOR_YUV2GRAY_YUYV',\n",
       " 'COLOR_YUV2GRAY_YV12',\n",
       " 'COLOR_YUV2GRAY_YVYU',\n",
       " 'COLOR_YUV2RGB',\n",
       " 'COLOR_YUV2RGBA_I420',\n",
       " 'COLOR_YUV2RGBA_IYUV',\n",
       " 'COLOR_YUV2RGBA_NV12',\n",
       " 'COLOR_YUV2RGBA_NV21',\n",
       " 'COLOR_YUV2RGBA_UYNV',\n",
       " 'COLOR_YUV2RGBA_UYVY',\n",
       " 'COLOR_YUV2RGBA_Y422',\n",
       " 'COLOR_YUV2RGBA_YUNV',\n",
       " 'COLOR_YUV2RGBA_YUY2',\n",
       " 'COLOR_YUV2RGBA_YUYV',\n",
       " 'COLOR_YUV2RGBA_YV12',\n",
       " 'COLOR_YUV2RGBA_YVYU',\n",
       " 'COLOR_YUV2RGB_I420',\n",
       " 'COLOR_YUV2RGB_IYUV',\n",
       " 'COLOR_YUV2RGB_NV12',\n",
       " 'COLOR_YUV2RGB_NV21',\n",
       " 'COLOR_YUV2RGB_UYNV',\n",
       " 'COLOR_YUV2RGB_UYVY',\n",
       " 'COLOR_YUV2RGB_Y422',\n",
       " 'COLOR_YUV2RGB_YUNV',\n",
       " 'COLOR_YUV2RGB_YUY2',\n",
       " 'COLOR_YUV2RGB_YUYV',\n",
       " 'COLOR_YUV2RGB_YV12',\n",
       " 'COLOR_YUV2RGB_YVYU',\n",
       " 'COLOR_YUV420P2BGR',\n",
       " 'COLOR_YUV420P2BGRA',\n",
       " 'COLOR_YUV420P2GRAY',\n",
       " 'COLOR_YUV420P2RGB',\n",
       " 'COLOR_YUV420P2RGBA',\n",
       " 'COLOR_YUV420SP2BGR',\n",
       " 'COLOR_YUV420SP2BGRA',\n",
       " 'COLOR_YUV420SP2GRAY',\n",
       " 'COLOR_YUV420SP2RGB',\n",
       " 'COLOR_YUV420SP2RGBA',\n",
       " 'COLOR_YUV420p2BGR',\n",
       " 'COLOR_YUV420p2BGRA',\n",
       " 'COLOR_YUV420p2GRAY',\n",
       " 'COLOR_YUV420p2RGB',\n",
       " 'COLOR_YUV420p2RGBA',\n",
       " 'COLOR_YUV420sp2BGR',\n",
       " 'COLOR_YUV420sp2BGRA',\n",
       " 'COLOR_YUV420sp2GRAY',\n",
       " 'COLOR_YUV420sp2RGB',\n",
       " 'COLOR_YUV420sp2RGBA',\n",
       " 'COLOR_mRGBA2RGBA']"
      ]
     },
     "execution_count": 10,
     "metadata": {},
     "output_type": "execute_result"
    }
   ],
   "source": [
    "flags"
   ]
  },
  {
   "cell_type": "code",
   "execution_count": 11,
   "id": "7c828571",
   "metadata": {},
   "outputs": [],
   "source": [
    "gray = cv2.cvtColor(img[:,:,:], cv2.COLOR_BGR2GRAY)  #convert to grayscale\n",
    "img_rgb = cv2.cvtColor(img, cv2.COLOR_BGR2RGB) #BGR to RGB\n",
    "img_hsv = cv2.cvtColor(img, cv2.COLOR_BGR2HSV) #BGR to HSV\n",
    "# rgb to YCbCr"
   ]
  },
  {
   "cell_type": "code",
   "execution_count": 28,
   "id": "7a4e066e",
   "metadata": {},
   "outputs": [],
   "source": [
    "# grayscale to binary\n",
    "threshold = 63 \n",
    "img_bin = cv2.threshold(img_gray, threshold, 255, cv2.THRESH_BINARY)[1] #convert greyscale  to binary image\n",
    "#first output is the thresold value, second is image so to ge"
   ]
  },
  {
   "cell_type": "code",
   "execution_count": 35,
   "id": "ba54b5f5",
   "metadata": {},
   "outputs": [],
   "source": [
    "np.unique(img)"
   ]
  },
  {
   "cell_type": "code",
   "execution_count": 38,
   "id": "e31d4812",
   "metadata": {},
   "outputs": [],
   "source": [
    "unique, counts = np.unique(img, return_counts=True)\n",
    "result = np.column_stack((unique, counts)) #to get the count of each pixel\n",
    "print (result)"
   ]
  },
  {
   "cell_type": "markdown",
   "id": "d38f355f",
   "metadata": {},
   "source": [
    "### Thresholding"
   ]
  },
  {
   "cell_type": "code",
   "execution_count": 9,
   "id": "3d515e2b",
   "metadata": {},
   "outputs": [],
   "source": [
    "ret,thresh1 = cv2.threshold(img_gray,100,255,cv2.THRESH_BINARY)\n",
    "#ret,thresh2 = cv2.threshold(img_gray,200,255,cv2.THRESH_BINARY_INV)\n",
    "#ret,thresh3 = cv2.threshold(img_gray,200,255,cv2.THRESH_TRUNC)\n",
    "#ret,thresh4 = cv2.threshold(img_gray,200,255,cv2.THRESH_TOZERO)\n",
    "#ret,thresh5 = cv2.threshold(img_gray,200,255,cv2.THRESH_TOZERO_INV)"
   ]
  },
  {
   "cell_type": "markdown",
   "id": "965739fa",
   "metadata": {},
   "source": [
    "###### Adaptive Thresholding"
   ]
  },
  {
   "cell_type": "markdown",
   "id": "88c7e051",
   "metadata": {},
   "source": [
    " cv2.adaptiveThreshold(source, maxVal, adaptiveMethod, thresholdType, blocksize, constant)"
   ]
  },
  {
   "cell_type": "code",
   "execution_count": null,
   "id": "39801e2b",
   "metadata": {},
   "outputs": [],
   "source": [
    "th2 = cv2.adaptiveThreshold(img,255,cv2.ADAPTIVE_THRESH_MEAN_C,cv2.THRESH_BINARY,11,2)\n",
    "th3 = cv2.adaptiveThreshold(img,255,cv2.ADAPTIVE_THRESH_GAUSSIAN_C,cv2.THRESH_BINARY,11,2)"
   ]
  },
  {
   "cell_type": "code",
   "execution_count": null,
   "id": "9095c948",
   "metadata": {},
   "outputs": [],
   "source": [
    "ret, thresh1 = cv2.threshold(img, 120, 255, cv2.THRESH_BINARY + \n",
    "                             cv2.THRESH_OTSU)  "
   ]
  },
  {
   "cell_type": "markdown",
   "id": "f58e863a",
   "metadata": {},
   "source": [
    "###### Example for adaptive Thresholding"
   ]
  },
  {
   "cell_type": "code",
   "execution_count": 27,
   "id": "204b1e73",
   "metadata": {},
   "outputs": [],
   "source": [
    "img=cv2.imread('car.jpg',-1 )# color image\n",
    "img_gray=cv2.imread('car.jpg',0 ) #grayscale\n",
    "img=cv2.imread('car.jpg',1 ) #original unchanged with alpha/additional channels"
   ]
  },
  {
   "cell_type": "code",
   "execution_count": 28,
   "id": "3fdc0aa4",
   "metadata": {},
   "outputs": [],
   "source": [
    "th2 = cv2.adaptiveThreshold(img_gray,255,cv2.ADAPTIVE_THRESH_MEAN_C,cv2.THRESH_BINARY,11,2)\n",
    "th3 = cv2.adaptiveThreshold(img_gray,255,cv2.ADAPTIVE_THRESH_GAUSSIAN_C,cv2.THRESH_BINARY,11,2)\n",
    "#ret, th4 = cv2.threshold(img_gray, 127, 255, cv2.THRESH_BINARY +cv2.THRESH_OTSU)\n",
    "ret,th4 = cv2.threshold(img_gray, 0, 255, cv2.THRESH_OTSU)"
   ]
  },
  {
   "cell_type": "code",
   "execution_count": 44,
   "id": "842f34f5",
   "metadata": {},
   "outputs": [],
   "source": [
    "#multiple images at a time\n",
    "cv2.imshow('binary',thresh1)\n",
    "cv2.imshow('mean',th2)\n",
    "cv2.imshow('gau',th3)\n",
    "cv2.imshow('ots',th4)\n",
    "cv2.imshow('image',img_gray)\n",
    "cv2.waitKey()\n",
    "cv2.destroyAllWindows()"
   ]
  },
  {
   "cell_type": "code",
   "execution_count": 33,
   "id": "eea5eb95",
   "metadata": {
    "scrolled": false
   },
   "outputs": [
    {
     "data": {
      "text/plain": [
       "array([  0, 255], dtype=uint8)"
      ]
     },
     "execution_count": 33,
     "metadata": {},
     "output_type": "execute_result"
    }
   ],
   "source": [
    "np.unique(th2)"
   ]
  },
  {
   "cell_type": "markdown",
   "id": "34e6d260",
   "metadata": {},
   "source": [
    "### Histogram Equilization"
   ]
  },
  {
   "cell_type": "code",
   "execution_count": 46,
   "id": "12a13ae6",
   "metadata": {},
   "outputs": [],
   "source": [
    "dst = cv.equalizeHist(img_gray)"
   ]
  },
  {
   "cell_type": "code",
   "execution_count": 48,
   "id": "edd12420",
   "metadata": {
    "scrolled": true
   },
   "outputs": [
    {
     "data": {
      "text/plain": [
       "<AxesSubplot:ylabel='Count'>"
      ]
     },
     "execution_count": 48,
     "metadata": {},
     "output_type": "execute_result"
    },
    {
     "data": {
      "image/png": "[encoded data removed]",
      "text/plain": [
       "<Figure size 432x288 with 1 Axes>"
      ]
     },
     "metadata": {
      "needs_background": "light"
     },
     "output_type": "display_data"
    }
   ],
   "source": [
    "sns.histplot(np.ravel(dst))"
   ]
  },
  {
   "cell_type": "code",
   "execution_count": 54,
   "id": "24a521d5",
   "metadata": {
    "scrolled": true
   },
   "outputs": [
    {
     "data": {
      "text/plain": [
       "<AxesSubplot:ylabel='Count'>"
      ]
     },
     "execution_count": 54,
     "metadata": {},
     "output_type": "execute_result"
    },
    {
     "data": {
      "image/png": "[encoded data removed]",
      "text/plain": [
       "<Figure size 432x288 with 1 Axes>"
      ]
     },
     "metadata": {
      "needs_background": "light"
     },
     "output_type": "display_data"
    }
   ],
   "source": [
    "sns.histplot(np.ravel(img_gray))"
   ]
  },
  {
   "cell_type": "markdown",
   "id": "46a36f7c",
   "metadata": {},
   "source": [
    "### Smoothening /Denoising Filters"
   ]
  },
  {
   "cell_type": "code",
   "execution_count": 15,
   "id": "6774418e",
   "metadata": {},
   "outputs": [],
   "source": [
    "img_med=cv.medianBlur(img_noise,55) #kernel size   #Median Filter"
   ]
  },
  {
   "cell_type": "code",
   "execution_count": 17,
   "id": "b81cc805",
   "metadata": {},
   "outputs": [
    {
     "data": {
      "text/plain": [
       "\"\\nimg-input image\\nksize-Output image same as input\\nKsize-Gaussian kernel size. ksize.width and ksize.height can differ but both must be positive and odd. Or,\\n        they can be zero's and then they are computed from sigma.\\nSigmaX -SD x direction , if it zero it will take same as the \\nsimaY -SD y direction\\n if sigmaY is zero, it is set to be equal to sigmaX, if both sigmas are zeros, they are computed from ksize.\\n        width and ksize.heigh\\nbordetype -0 -constant\\n           1-border replicate\\n           2-border reflect\\n\""
      ]
     },
     "execution_count": 17,
     "metadata": {},
     "output_type": "execute_result"
    }
   ],
   "source": [
    "#cv.GaussianBlur(img, ksize, sigmaX[, dst[, sigmaY[, borderType]]])  #Gaussian Filter\n",
    "\n",
    "blur = cv2.GaussianBlur(img_noise,(5,55),0,2)  #example with standard sd and kernel size 5x55\n",
    "\"\"\"\n",
    "img-input image\n",
    "ksize-Output image same as input\n",
    "Ksize-Gaussian kernel size. ksize.width and ksize.height can differ but both must be positive and odd. Or,\n",
    "        they can be zero's and then they are computed from sigma.\n",
    "SigmaX -SD x direction , if it zero it will take same as the \n",
    "simaY -SD y direction\n",
    " if sigmaY is zero, it is set to be equal to sigmaX, if both sigmas are zeros, they are computed from ksize.\n",
    "        width and ksize.heigh\n",
    "bordetype -0 -constant\n",
    "           1-border replicate\n",
    "           2-border reflect\n",
    "\"\"\"\n",
    "#cv.getGaussianKernel(5,555,5) # to ger a kernel"
   ]
  },
  {
   "cell_type": "code",
   "execution_count": 43,
   "id": "45276b31",
   "metadata": {},
   "outputs": [
    {
     "data": {
      "text/plain": [
       "'\\nSigma values: For simplicity, you can set the 2 sigma values to be the same. \\n              If they are small (< 10), the filter will not have much effect, \\n               whereas if they are large (> 150), they will have a very strong effect, \\n               making the image look \"cartoonish\".\\nFilter size: Large filters (d > 5) are very slow, so it is recommended to use d=5 for \\n            real-time applications, and perhaps d=9 for offline applications that need \\n            heavy noise filtering.\\n'"
      ]
     },
     "execution_count": 43,
     "metadata": {},
     "output_type": "execute_result"
    }
   ],
   "source": [
    "#cv.bilateralFilter(src, d, sigmaColor, sigmaSpace,border)   #BILATERAL FILTER\n",
    "#sigmacolor -gaussian or spacial weight\n",
    "#sigmaspace -range  weight #refer ppt for details\n",
    "img_bil=cv.bilateralFilter(img_noise, 5, 20, 100,1)\n",
    "\"\"\"\n",
    "Sigma values: For simplicity, you can set the 2 sigma values to be the same. \n",
    "              If they are small (< 10), the filter will not have much effect, \n",
    "               whereas if they are large (> 150), they will have a very strong effect, \n",
    "               making the image look \"cartoonish\".\n",
    "Filter size: Large filters (d > 5) are very slow, so it is recommended to use d=5 for \n",
    "            real-time applications, and perhaps d=9 for offline applications that need \n",
    "            heavy noise filtering.\n",
    "\"\"\""
   ]
  },
  {
   "cell_type": "code",
   "execution_count": 40,
   "id": "7904d164",
   "metadata": {
    "scrolled": true
   },
   "outputs": [
    {
     "data": {
      "text/plain": [
       "'\\nsrc : Input 8-bit 3-channel image.\\ndst : Output image with the same size and type as src .\\nh : Parameter regulating filter strength for luminance component. Bigger h value perfectly removes noise but also removes image details, smaller h value preserves details but also preserves some noise.\\ntemplateWindowSize : Size in pixels of the template patch that is used to compute weights. Should be odd. Recommended value 7 pixels\\nsearchWindowSize : Size in pixels of the window that is used to compute weighted average for given pixel. Should be odd. Affect performance linearly: greater searchWindowsSize - greater denoising time. Recommended value 21 pixels\\n'"
      ]
     },
     "execution_count": 40,
     "metadata": {},
     "output_type": "execute_result"
    }
   ],
   "source": [
    "#dst = cv2.fastNlMeansDenoisingColored(img,None,h,hcolor,templatewindow size,Searchwindowsize)\n",
    "dst = cv2.fastNlMeansDenoisingColored(img,None,10,10,7,21) #color image\n",
    "\"\"\"\n",
    "src : Input 8-bit 3-channel image.\n",
    "dst : Output image with the same size and type as src .\n",
    "h : Parameter regulating filter strength for luminance component. Bigger h value perfectly removes noise but also removes image details, smaller h value preserves details but also preserves some noise.\n",
    "templateWindowSize : Size in pixels of the template patch that is used to compute weights. Should be odd. Recommended value 7 pixels\n",
    "searchWindowSize : Size in pixels of the window that is used to compute weighted average for given pixel. Should be odd. Affect performance linearly: greater searchWindowsSize - greater denoising time. Recommended value 21 pixels\n",
    "\"\"\""
   ]
  },
  {
   "cell_type": "markdown",
   "id": "6e516630",
   "metadata": {},
   "source": [
    "### Edge Detection"
   ]
  },
  {
   "cell_type": "code",
   "execution_count": 33,
   "id": "e0789818",
   "metadata": {},
   "outputs": [],
   "source": [
    "np.set_printoptions(threshold=np.inf)"
   ]
  },
  {
   "cell_type": "code",
   "execution_count": 12,
   "id": "c1859be4",
   "metadata": {},
   "outputs": [],
   "source": [
    "img=cv2.imread('edges.jpg',-1 )# color image\n",
    "img_gray=cv2.imread('edges.jpg',0 ) #grayscale"
   ]
  },
  {
   "cell_type": "code",
   "execution_count": 13,
   "id": "9eb6e920",
   "metadata": {},
   "outputs": [],
   "source": [
    "#Sobel\n",
    "sobelx = cv2.Sobel(img_gray,cv2.CV_64F,1,0,ksize=5)  # x\n",
    "sobely = cv2.Sobel(img_gray,cv2.CV_64F,0,1,ksize=5)  # y"
   ]
  },
  {
   "cell_type": "code",
   "execution_count": 51,
   "id": "787b3689",
   "metadata": {},
   "outputs": [],
   "source": [
    "#Prewitt \n",
    "kernelprey = np.array([[1,1,1],[0,0,0],[-1,-1,-1]])  \n",
    "kernelpre = np.array([[-1,0,1],[-1,0,1],[-1,0,1]])\n",
    "prex=cv2.filter2D(img_gray, -1, kernelprex)\n",
    "prey=cv2.filter2D(img_gray, -1, kernelprey)\n",
    "kernelx"
   ]
  },
  {
   "cell_type": "code",
   "execution_count": 87,
   "id": "6370a089",
   "metadata": {},
   "outputs": [],
   "source": [
    "#Roberts\n",
    "kernelrobx = np.array([[1, 0], [0, -1]]) #\n",
    "kernelroby = np.array([[0, 1], [-1, 0]])\n",
    "robx = cv2.filter2D(img_gray, -1, kernelrobx)\n",
    "roby = cv2.filter2D(img_gray, -1, kernelroby)"
   ]
  },
  {
   "cell_type": "code",
   "execution_count": 84,
   "id": "5d053396",
   "metadata": {},
   "outputs": [],
   "source": [
    "#Canny Edge\n",
    "img_canny = cv2.Canny(img_gray,100,200) #canny edge"
   ]
  },
  {
   "cell_type": "code",
   "execution_count": 85,
   "id": "60604f06",
   "metadata": {},
   "outputs": [],
   "source": [
    "# to visualize the image\n",
    "cv2.imshow('x&y',robx+roby)\n",
    "cv2.imshow('x',robx)\n",
    "cv2.imshow('y',roby)\n",
    "cv2.imshow('origi',img_gray[24:40,55:68])\n",
    "cv2.waitKey()\n",
    "cv2.destroyAllWindows()"
   ]
  },
  {
   "cell_type": "code",
   "execution_count": 86,
   "id": "447d76d1",
   "metadata": {},
   "outputs": [],
   "source": [
    "#code to visualize the pixel values\n",
    "#img_gray[24:40,56:68]\n",
    "#roby[24:40,56:68]"
   ]
  },
  {
   "cell_type": "markdown",
   "id": "e1f468fe",
   "metadata": {},
   "source": [
    "### Morphological Operations"
   ]
  },
  {
   "cell_type": "code",
   "execution_count": 6,
   "id": "a0123435",
   "metadata": {},
   "outputs": [],
   "source": [
    "img=cv2.imread('word.jpg',-1 )# color image\n",
    "img_gray=cv2.imread('word.jpg',0 ) #grayscale\n",
    "\n",
    "cv2.imshow('origi',img_gray)\n",
    "cv2.imshow('er',eroded)\n",
    "cv2.imshow('dia',dilate)\n",
    "cv2.waitKey()\n",
    "cv2.destroyAllWindows()"
   ]
  },
  {
   "cell_type": "code",
   "execution_count": 41,
   "id": "a6dc8e72",
   "metadata": {},
   "outputs": [],
   "source": [
    "#CREATING A STRUCTURAL ELEMENT\n",
    "kernelSize = (5, 5)# (5, 5), (7, 7)\n",
    "kernel = cv2.getStructuringElement(cv2.MORPH_RECT, kernelSize) \n",
    "kernel\n",
    "#this function requires two arguments: the first is the type of structuring element ,cv2.MORPH_CROSS , cv2.MOPRH_ELLIPSE\n",
    "#second is the size of the structuring element"
   ]
  },
  {
   "cell_type": "code",
   "execution_count": 5,
   "id": "619b57a5",
   "metadata": {},
   "outputs": [],
   "source": [
    "#ERROTION /DILATION\n",
    "eroded = cv2.erode(img_gray.copy(), None, iterations=5) #more iterations more part will erode\n",
    "dilate = cv2.dilate(img_gray.copy(), None, iterations=5)\n",
    "#Three arguments, first image, second size of structureal element, third no of times operation to be done\n",
    "#if structural element is None , then a 3X3 Struct element will use by default\n",
    "#in this hyper parameter is size of structural element and iterations"
   ]
  },
  {
   "cell_type": "code",
   "execution_count": null,
   "id": "f495c9bb",
   "metadata": {},
   "outputs": [],
   "source": []
  },
  {
   "cell_type": "code",
   "execution_count": null,
   "id": "ed14f3cc",
   "metadata": {},
   "outputs": [],
   "source": [
    "#OPENING /CLOSING\n",
    "opening = cv2.morphologyEx(img_gray, cv2.MORPH_OPEN, kernel)\n",
    "closing = cv2.morphologyEx(gray, cv2.MORPH_CLOSE, kernel)\n",
    "#it has three arguments, first is image, second is type of morph oper(opening/closing/) \n",
    "#third is size of structural element\n",
    "#in this hyper parameter is size of structural element"
   ]
  },
  {
   "cell_type": "code",
   "execution_count": null,
   "id": "0fa4f5a6",
   "metadata": {},
   "outputs": [],
   "source": [
    "#MORPHOLOGICAL OPERATION\n",
    "gradient = cv2.morphologyEx(gray, cv2.MORPH_GRADIENT, kernel)\n",
    "#Hyperparameter is the size of the kernel"
   ]
  },
  {
   "cell_type": "code",
   "execution_count": null,
   "id": "e72b7a1e",
   "metadata": {},
   "outputs": [],
   "source": []
  },
  {
   "cell_type": "code",
   "execution_count": 32,
   "id": "1f18e55e",
   "metadata": {},
   "outputs": [],
   "source": [
    "cv2.imshow('eroded',eroded)\n",
    "cv2.imshow('origi',img_gray)\n",
    "cv2.waitKey()\n",
    "cv2.destroyAllWindows()"
   ]
  },
  {
   "cell_type": "markdown",
   "id": "40479138",
   "metadata": {},
   "source": [
    "#### Draw Contours"
   ]
  },
  {
   "cell_type": "raw",
   "id": "ae613526",
   "metadata": {},
   "source": [
    "0,0 is the top left hand corner"
   ]
  },
  {
   "cell_type": "code",
   "execution_count": 47,
   "id": "37f30530",
   "metadata": {},
   "outputs": [],
   "source": [
    "h=300\n",
    "w=100\n",
    "#imgl=cv2.line(img,(0,0),(h,w),(255,0,0),10)  #cv2.line(img,(startpoint)(endpoint),(color),width of line)"
   ]
  },
  {
   "cell_type": "code",
   "execution_count": null,
   "id": "14cc809d",
   "metadata": {},
   "outputs": [],
   "source": [
    "#cv2.line(img,(topleft),(bottom right),(color),width of line/fill option)\n",
    "imgl=cv2.rectangle(img,(0,0),(h,w),(255,0,0),-1)  #inlast if we give -1 , it will gill the whole rectangle ,\n",
    "imgl=cv2.rectangle(img,(0,0),(h,w),(255,0,0),5) #a positive value will considered as the width of the line"
   ]
  },
  {
   "cell_type": "code",
   "execution_count": 49,
   "id": "ed882c10",
   "metadata": {},
   "outputs": [],
   "source": [
    "imgl=cv2.circle(img,(100,100),60,(255,0,0),-1)\n",
    "img2=cv2.circle(img,(100,100),60,(255,0,0),3)"
   ]
  },
  {
   "cell_type": "markdown",
   "id": "4ae6973b",
   "metadata": {},
   "source": [
    "###### polygons"
   ]
  },
  {
   "cell_type": "code",
   "execution_count": 53,
   "id": "0a4bbc49",
   "metadata": {},
   "outputs": [
    {
     "data": {
      "text/plain": [
       "(460, 819, 3)"
      ]
     },
     "execution_count": 53,
     "metadata": {},
     "output_type": "execute_result"
    }
   ],
   "source": [
    "img.shape"
   ]
  },
  {
   "cell_type": "code",
   "execution_count": 57,
   "id": "7a83ba97",
   "metadata": {},
   "outputs": [],
   "source": [
    "W=img.shape[1]\n",
    "H=img.shape[0]"
   ]
  },
  {
   "cell_type": "code",
   "execution_count": 70,
   "id": "b5c21776",
   "metadata": {},
   "outputs": [],
   "source": [
    "\n",
    "def my_polygon(img):\n",
    "    line_type = 8\n",
    "    # Create some points\n",
    "    ppt = np.array([[W / 4, 7 * W / 8], [3 * W / 4, 7 * W / 8],\n",
    "                    [3 * W / 4, 13 * W / 16], [11 * W / 16, 13 * W / 16],\n",
    "                    [19 * W / 32, 3 * W / 8], [3 * W / 4, 3 * W / 8],\n",
    "                    [3 * W / 4, W / 8], [26 * W / 40, W / 8],\n",
    "                    [26 * W / 40, W / 4], [22 * W / 40, W / 4],\n",
    "                    [22 * W / 40, W / 8], [18 * W / 40, W / 8],\n",
    "                    [18 * W / 40, W / 4], [14 * W / 40, W / 4],\n",
    "                    [14 * W / 40, W / 8], [W / 4, W / 8],\n",
    "                    [W / 4, 3 * W / 8], [13 * W / 32, 3 * W / 8],\n",
    "                    [5 * W / 16, 13 * W / 16], [W / 4, 13 * W / 16]], np.int32)\n",
    "    ppt = ppt.reshape((-1, 1, 2))\n",
    "    imgp=cv2.fillPoly(img, [ppt], (255, 255, 255), line_type)\n",
    "    return imgp"
   ]
  },
  {
   "cell_type": "code",
   "execution_count": 60,
   "id": "e0886ddd",
   "metadata": {},
   "outputs": [],
   "source": [
    "y=my_polygon(img)"
   ]
  },
  {
   "cell_type": "markdown",
   "id": "238c5fa1",
   "metadata": {},
   "source": [
    "#### Template Matching"
   ]
  },
  {
   "cell_type": "code",
   "execution_count": 483,
   "id": "84b886a4",
   "metadata": {},
   "outputs": [],
   "source": [
    "image=cv2.imread('tulip_garden.jpg',0)\n",
    "template=cv2.imread('tulip_1.jpg',0)"
   ]
  },
  {
   "cell_type": "code",
   "execution_count": 484,
   "id": "1faa813b",
   "metadata": {},
   "outputs": [
    {
     "data": {
      "text/plain": [
       "(91, 86)"
      ]
     },
     "execution_count": 484,
     "metadata": {},
     "output_type": "execute_result"
    }
   ],
   "source": [
    "template.shape"
   ]
  },
  {
   "cell_type": "code",
   "execution_count": 485,
   "id": "0d5a4402",
   "metadata": {},
   "outputs": [],
   "source": [
    "h,w=template.shape"
   ]
  },
  {
   "cell_type": "code",
   "execution_count": 495,
   "id": "f4d51415",
   "metadata": {},
   "outputs": [],
   "source": [
    "template=cv2.resize(template,(0,0),fx=1,fy=1)"
   ]
  },
  {
   "cell_type": "code",
   "execution_count": 496,
   "id": "98809bde",
   "metadata": {},
   "outputs": [
    {
     "data": {
      "text/plain": [
       "(635, 1133)"
      ]
     },
     "execution_count": 496,
     "metadata": {},
     "output_type": "execute_result"
    }
   ],
   "source": [
    "image.shape"
   ]
  },
  {
   "cell_type": "code",
   "execution_count": 497,
   "id": "ed5df2c9",
   "metadata": {},
   "outputs": [
    {
     "data": {
      "text/plain": [
       "(23, 22)"
      ]
     },
     "execution_count": 497,
     "metadata": {},
     "output_type": "execute_result"
    }
   ],
   "source": [
    "template.shape"
   ]
  },
  {
   "cell_type": "code",
   "execution_count": 498,
   "id": "d9799e32",
   "metadata": {},
   "outputs": [
    {
     "name": "stdout",
     "output_type": "stream",
     "text": [
      "(537, 610) (477, 593)\n"
     ]
    }
   ],
   "source": [
    "methods=[cv2.TM_CCOEFF]\n",
    "for method in methods:\n",
    "    img2=image.copy()\n",
    "    result=cv2.matchTemplate(image,template,method)\n",
    "    min_val,max_val,min_loc,max_loc =cv2.minMaxLoc(result)\n",
    "    print(min_loc,max_loc)\n",
    "    "
   ]
  },
  {
   "cell_type": "code",
   "execution_count": 499,
   "id": "9a6cba2c",
   "metadata": {},
   "outputs": [],
   "source": [
    "location =max_loc\n",
    "bottom =(location[0] +w ,location[1]+h)"
   ]
  },
  {
   "cell_type": "code",
   "execution_count": 500,
   "id": "a79b5c37",
   "metadata": {},
   "outputs": [],
   "source": [
    "result=cv2.rectangle(img2,location,bottom,255,5)"
   ]
  },
  {
   "cell_type": "code",
   "execution_count": 501,
   "id": "507230d9",
   "metadata": {},
   "outputs": [
    {
     "data": {
      "image/png": "[encoded data removed]",
      "text/plain": [
       "<Figure size 432x288 with 1 Axes>"
      ]
     },
     "metadata": {},
     "output_type": "display_data"
    }
   ],
   "source": [
    "Image_Show(result,'test')"
   ]
  },
  {
   "cell_type": "code",
   "execution_count": 502,
   "id": "b27edf9a",
   "metadata": {},
   "outputs": [],
   "source": [
    "cv2.imshow('dst',result)\n",
    "cv2.waitKey(0)\n",
    "cv2.destroyAllWindows()"
   ]
  },
  {
   "cell_type": "markdown",
   "id": "604b3c6d",
   "metadata": {},
   "source": [
    "#### MASKING ON AN IMAGE"
   ]
  },
  {
   "cell_type": "markdown",
   "id": "929111c9",
   "metadata": {},
   "source": [
    "#### Blending"
   ]
  },
  {
   "cell_type": "code",
   "execution_count": 150,
   "id": "fb721a6a",
   "metadata": {},
   "outputs": [
    {
     "data": {
      "text/plain": [
       "(598, 1011, 3)"
      ]
     },
     "execution_count": 150,
     "metadata": {},
     "output_type": "execute_result"
    }
   ],
   "source": [
    "img1 = cv2.imread('rainbow.jpg')\n",
    "img1.shape"
   ]
  },
  {
   "cell_type": "code",
   "execution_count": 151,
   "id": "c11afe7e",
   "metadata": {},
   "outputs": [],
   "source": [
    "img2=img1[0:460,0:819,:]"
   ]
  },
  {
   "cell_type": "code",
   "execution_count": 171,
   "id": "204fe26c",
   "metadata": {},
   "outputs": [],
   "source": [
    "dst = cv2.addWeighted(img,.5,img2,.9,0)"
   ]
  },
  {
   "cell_type": "code",
   "execution_count": 172,
   "id": "aeee7a4c",
   "metadata": {},
   "outputs": [],
   "source": [
    "cv2.imshow('dst',dst)\n",
    "cv2.waitKey(0)\n",
    "cv2.destroyAllWindows()"
   ]
  },
  {
   "cell_type": "code",
   "execution_count": 125,
   "id": "1fab8678",
   "metadata": {},
   "outputs": [
    {
     "data": {
      "text/plain": [
       "230.0"
      ]
     },
     "execution_count": 125,
     "metadata": {},
     "output_type": "execute_result"
    }
   ],
   "source": [
    "rows,cols,channels = img2.shape\n",
    "rows=rows/2\n",
    "cols=cols/2\n",
    "rows"
   ]
  },
  {
   "cell_type": "code",
   "execution_count": 135,
   "id": "38959ead",
   "metadata": {},
   "outputs": [],
   "source": [
    "img1 = cv.imread('test.jpg')\n",
    "img2 = cv.imread('rainbow.jpg')"
   ]
  },
  {
   "cell_type": "code",
   "execution_count": 136,
   "id": "a8ce42a6",
   "metadata": {},
   "outputs": [
    {
     "data": {
      "text/plain": [
       "(460, 819, 3)"
      ]
     },
     "execution_count": 136,
     "metadata": {},
     "output_type": "execute_result"
    }
   ],
   "source": [
    "img1.shape"
   ]
  },
  {
   "cell_type": "code",
   "execution_count": 137,
   "id": "ca95dcfc",
   "metadata": {},
   "outputs": [
    {
     "data": {
      "text/plain": [
       "(598, 1011, 3)"
      ]
     },
     "execution_count": 137,
     "metadata": {},
     "output_type": "execute_result"
    }
   ],
   "source": [
    "img2.shape"
   ]
  },
  {
   "cell_type": "code",
   "execution_count": 139,
   "id": "99681d0e",
   "metadata": {},
   "outputs": [],
   "source": [
    "img2=img2[0:460,0:819,:]"
   ]
  },
  {
   "cell_type": "code",
   "execution_count": 140,
   "id": "6620bb55",
   "metadata": {},
   "outputs": [
    {
     "data": {
      "text/plain": [
       "(460, 819, 3)"
      ]
     },
     "execution_count": 140,
     "metadata": {},
     "output_type": "execute_result"
    }
   ],
   "source": [
    "img2.shape"
   ]
  },
  {
   "cell_type": "code",
   "execution_count": 146,
   "id": "1bbd7017",
   "metadata": {
    "scrolled": true
   },
   "outputs": [
    {
     "ename": "error",
     "evalue": "OpenCV(4.0.1) C:\\ci\\opencv-suite_1573470242804\\work\\modules\\core\\src\\arithm.cpp:245: error: (-215:Assertion failed) (mtype == CV_8U || mtype == CV_8S) && _mask.sameSize(*psrc1) in function 'cv::binary_op'\n",
     "output_type": "error",
     "traceback": [
      "\u001b[1;31m---------------------------------------------------------------------------\u001b[0m",
      "\u001b[1;31merror\u001b[0m                                     Traceback (most recent call last)",
      "\u001b[1;32m<ipython-input-146-6f5d89726e5a>\u001b[0m in \u001b[0;36m<module>\u001b[1;34m\u001b[0m\n\u001b[0;32m     11\u001b[0m \u001b[0mmask_inv\u001b[0m \u001b[1;33m=\u001b[0m \u001b[0mcv\u001b[0m\u001b[1;33m.\u001b[0m\u001b[0mbitwise_not\u001b[0m\u001b[1;33m(\u001b[0m\u001b[0mmask\u001b[0m\u001b[1;33m)\u001b[0m\u001b[1;33m\u001b[0m\u001b[1;33m\u001b[0m\u001b[0m\n\u001b[0;32m     12\u001b[0m \u001b[1;31m# Now black-out the area of logo in ROI\u001b[0m\u001b[1;33m\u001b[0m\u001b[1;33m\u001b[0m\u001b[1;33m\u001b[0m\u001b[0m\n\u001b[1;32m---> 13\u001b[1;33m \u001b[0mimg1_bg\u001b[0m \u001b[1;33m=\u001b[0m \u001b[0mcv\u001b[0m\u001b[1;33m.\u001b[0m\u001b[0mbitwise_and\u001b[0m\u001b[1;33m(\u001b[0m\u001b[0mroi\u001b[0m\u001b[1;33m,\u001b[0m\u001b[0mroi\u001b[0m\u001b[1;33m,\u001b[0m\u001b[0mmask\u001b[0m \u001b[1;33m=\u001b[0m \u001b[0mmask_inv\u001b[0m\u001b[1;33m)\u001b[0m\u001b[1;33m\u001b[0m\u001b[1;33m\u001b[0m\u001b[0m\n\u001b[0m\u001b[0;32m     14\u001b[0m \u001b[1;31m# Take only region of logo from logo image.\u001b[0m\u001b[1;33m\u001b[0m\u001b[1;33m\u001b[0m\u001b[1;33m\u001b[0m\u001b[0m\n\u001b[0;32m     15\u001b[0m \u001b[0mimg2_fg\u001b[0m \u001b[1;33m=\u001b[0m \u001b[0mcv\u001b[0m\u001b[1;33m.\u001b[0m\u001b[0mbitwise_and\u001b[0m\u001b[1;33m(\u001b[0m\u001b[0mimg2\u001b[0m\u001b[1;33m,\u001b[0m\u001b[0mimg2\u001b[0m\u001b[1;33m,\u001b[0m\u001b[0mmask\u001b[0m \u001b[1;33m=\u001b[0m \u001b[0mmask\u001b[0m\u001b[1;33m)\u001b[0m\u001b[1;33m\u001b[0m\u001b[1;33m\u001b[0m\u001b[0m\n",
      "\u001b[1;31merror\u001b[0m: OpenCV(4.0.1) C:\\ci\\opencv-suite_1573470242804\\work\\modules\\core\\src\\arithm.cpp:245: error: (-215:Assertion failed) (mtype == CV_8U || mtype == CV_8S) && _mask.sameSize(*psrc1) in function 'cv::binary_op'\n"
     ]
    }
   ],
   "source": [
    "# Load two images\n",
    "\n",
    "# I want to put logo on top-left corner, So I create a ROI\n",
    "rows,cols,channels = img2.shape\n",
    "rows\n",
    "roi = img1[0:rows, 0:cols]\n",
    "# Now create a mask of logo and create its inverse mask also\n",
    "img2gray = cv.cvtColor(img2,cv.COLOR_BGR2GRAY)\n",
    "ret, mask = cv.threshold(img2gray, 10, 255, cv.THRESH_BINARY)\n",
    "mask_inv = cv.bitwise_not(mask)\n",
    "# Now black-out the area of logo in ROI\n",
    "img1_bg = cv.bitwise_and(roi,roi,mask = mask_inv)\n",
    "# Take only region of logo from logo image.\n",
    "img2_fg = cv.bitwise_and(img2,img2,mask = mask)\n",
    "# Put logo in ROI and modify the main image\n",
    "dst = cv.add(img1_bg,img2_fg)\n",
    "img1[0:rows, 0:cols ] = dst\n",
    "cv.imshow('res',dst)\n",
    "cv.waitKey(0)\n",
    "cv.destroyAllWindows()"
   ]
  },
  {
   "cell_type": "code",
   "execution_count": 31,
   "id": "a81ec458",
   "metadata": {},
   "outputs": [],
   "source": [
    "kernel2 = np.array([[-1,-1,-1], [-1, 9,-1], [-1,-1,-1]])\n",
    "im2 = cv2.filter2D(img2, -1, kernel2)\n"
   ]
  }
 ],
 "metadata": {
  "kernelspec": {
   "display_name": "Python 3",
   "language": "python",
   "name": "python3"
  },
  "language_info": {
   "codemirror_mode": {
    "name": "ipython",
    "version": 3
   },
   "file_extension": ".py",
   "mimetype": "text/x-python",
   "name": "python",
   "nbconvert_exporter": "python",
   "pygments_lexer": "ipython3",
   "version": "3.8.8"
  }
 },
 "nbformat": 4,
 "nbformat_minor": 5
}
